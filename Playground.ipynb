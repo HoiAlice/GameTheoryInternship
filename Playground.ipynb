{
 "cells": [
  {
   "cell_type": "code",
   "execution_count": 48,
   "metadata": {},
   "outputs": [
    {
     "data": {
      "text/plain": [
       "[2, 4, 4, 5, 5, 5, 6, 7, 7, 8, 9, 9, 11, 11, 13, 14, 15, 15, 16, 20]"
      ]
     },
     "execution_count": 48,
     "metadata": {},
     "output_type": "execute_result"
    }
   ],
   "source": [
    "from dataclasses import dataclass\n",
    "import numpy as np\n",
    "from typing import List\n",
    "\n",
    "\n",
    "def random_graph(n: int, p: float = 0.25):\n",
    "    matrix = np.zeros((n, n))\n",
    "    for i in range(n):\n",
    "        for j in range(i + 1, n):\n",
    "            if np.random.rand() < p:\n",
    "                matrix[i, j] = 1\n",
    "                matrix[j, i] = 1\n",
    "    return matrix\n",
    "\n",
    "\n",
    "@dataclass\n",
    "class Agent:\n",
    "    licenses: List[int]\n",
    "    bids: List[List[float]]\n",
    "    #crossBids: List[List[float]]\n",
    "\n",
    "\n",
    "def generate(regions: int = 12, \n",
    "             blocks: int = 16, \n",
    "             agents: int = 20,\n",
    "             T: float = 1.5):\n",
    "    matrix = random_graph(regions)\n",
    "    remains = [blocks] * regions\n",
    "    A = []\n",
    "    for agent in range(agents):\n",
    "        licenses = [0] * regions\n",
    "        for region in range(regions):\n",
    "            n = remains[region]\n",
    "            probabilities = np.exp(-np.arange(n + 1) / T)\n",
    "            probabilities /= np.sum(probabilities)\n",
    "            l = np.random.choice(np.arange(n + 1), p=probabilities)\n",
    "            remains[region] -= l\n",
    "            licenses[region] = l\n",
    "        bids = [[]] * regions\n",
    "        for region in range(regions):\n",
    "            l = licenses[region]\n",
    "            if l != 0:\n",
    "                s = blocks + 1 - l\n",
    "                bids[region] = (np.random.rand(s) <= 0.6) * np.random.rand(s) * 10 ** 6\n",
    "        #### сгенерируй межрегиональные ставки\n",
    "        A.append(Agent(licenses, bids))\n",
    "    return A\n",
    "\n",
    "A = generate()\n",
    "sorted([sum(a.licenses) for a in A])\n"
   ]
  }
 ],
 "metadata": {
  "kernelspec": {
   "display_name": "Python 3",
   "language": "python",
   "name": "python3"
  },
  "language_info": {
   "codemirror_mode": {
    "name": "ipython",
    "version": 3
   },
   "file_extension": ".py",
   "mimetype": "text/x-python",
   "name": "python",
   "nbconvert_exporter": "python",
   "pygments_lexer": "ipython3",
   "version": "3.10.12"
  }
 },
 "nbformat": 4,
 "nbformat_minor": 2
}
