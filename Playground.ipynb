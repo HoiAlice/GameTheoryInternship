{
 "cells": [
  {
   "cell_type": "code",
   "execution_count": 156,
   "metadata": {},
   "outputs": [],
   "source": [
    "from dataclasses import dataclass\n",
    "import numpy as np\n",
    "from typing import List\n",
    "from ortools.linear_solver import pywraplp"
   ]
  },
  {
   "cell_type": "code",
   "execution_count": 157,
   "metadata": {},
   "outputs": [],
   "source": [
    "def random_graph(n: int, p: float = 0.25):\n",
    "    matrix = np.zeros((n, n))\n",
    "    for i in range(n):\n",
    "        for j in range(i + 1, n):\n",
    "            if np.random.rand() < p:\n",
    "                matrix[i, j] = 1\n",
    "                matrix[j, i] = 1\n",
    "    return matrix\n",
    "\n",
    "\n",
    "@dataclass\n",
    "class Agent:\n",
    "    licenses: List[int]\n",
    "    bids: List[List[float]]\n",
    "    crossBids: List[List[float]]\n",
    "\n",
    "\n",
    "def generate(regions: int = 12, #упрощенная версия генерации, чтоб не тянуть время\n",
    "             blocks: int = 16, \n",
    "             agents: int = 20,\n",
    "             T: float = 1.5):\n",
    "    matrix = random_graph(regions)\n",
    "    remains = [blocks] * regions\n",
    "    A = []\n",
    "    for agent in range(agents):\n",
    "        licenses = [0] * regions\n",
    "        for region in range(regions):\n",
    "            n = remains[region]\n",
    "            probabilities = np.exp(-np.arange(n + 1) / T)\n",
    "            probabilities /= np.sum(probabilities)\n",
    "            l = np.random.choice(np.arange(n + 1), p=probabilities)\n",
    "            remains[region] -= l\n",
    "            licenses[region] = l\n",
    "        bids = [[]] * regions\n",
    "        for region in range(regions):\n",
    "            l = licenses[region]\n",
    "            if l != 0:\n",
    "                s = blocks + 1 - l\n",
    "                bids[region] = (np.random.rand(s) <= 0.6) * np.random.rand(s) * 10 ** 6 #ставки на частоты\n",
    "        crossBids = np.zeros((regions, regions))\n",
    "        for region in range(regions):\n",
    "            for region_ in range(region + 1, regions):\n",
    "                if matrix[region, region_] != 0 and licenses[region] != 0 and licenses[region_] != 0:\n",
    "                    D = np.random.rand() * 10 ** 3 # размер ставки на пересечение\n",
    "                    crossBids[region, region_] = D\n",
    "                    crossBids[region_, region] = D\n",
    "        A.append(Agent(licenses, bids, crossBids))\n",
    "    return A"
   ]
  },
  {
   "cell_type": "code",
   "execution_count": 158,
   "metadata": {},
   "outputs": [
    {
     "data": {
      "text/plain": [
       "[1, 2, 5, 7, 7, 7, 8, 8, 9, 9, 9, 10, 11, 12, 12, 13, 14, 15, 16, 17]"
      ]
     },
     "execution_count": 158,
     "metadata": {},
     "output_type": "execute_result"
    }
   ],
   "source": [
    "regions, blocks, agents = 12, 16, 20\n",
    "A = generate(regions, blocks, agents)\n",
    "sorted([sum(a.licenses) for a in A]) # семплим, пока не будет красиво =)"
   ]
  },
  {
   "cell_type": "code",
   "execution_count": 162,
   "metadata": {},
   "outputs": [
    {
     "data": {
      "text/plain": [
       "0"
      ]
     },
     "execution_count": 162,
     "metadata": {},
     "output_type": "execute_result"
    }
   ],
   "source": [
    "def AssignmentRound(regions: int, blocks: int, A: List[Agent]):\n",
    "    agents = len(A)\n",
    "    solver = pywraplp.Solver.CreateSolver(\"SAT\")\n",
    "    # тут хранится выбор блоков \n",
    "    x = [[[solver.BoolVar(name = \"x_{:d}_{:d}_{:d}\".format(agent, region, block)) \n",
    "            for block in range(blocks + 1 - A[agent].licenses[region])] \n",
    "            for region in range(regions)] \n",
    "            for agent in range(agents)] \n",
    "    # для каждого агента в каждом регионе должен быть выбран блок\n",
    "    for agent in range(agents): \n",
    "        for region in range(regions):\n",
    "            if len(x[agent][region]) > 0:\n",
    "                solver.Add(sum(x[agent][region]) == 1)\n",
    "    # пересекающиеся блоки нельзя взять \n",
    "    for region in range(regions):\n",
    "        for freq in range(blocks): # проблемы с именами, тут это частоты\n",
    "            solver.Add(\n",
    "                sum([sum([x[agent][region][i]\n",
    "                for i in range(len(x[agent][region])) \n",
    "                if i <= freq and freq <= i + A[agent].licenses[region] - 1]) \n",
    "                for agent in range(agents)]) <= 1)\n",
    "    # переменные с пересечением\n",
    "    y = [[[[solver.BoolVar(name = \"y_{:d}_{:d}_{:d}_{:d}\".format(agent, region, region_, freq)) \n",
    "            for freq in range(blocks)] \n",
    "            for region_ in range(regions)] \n",
    "            for region in range(regions)] \n",
    "            for agent in range(agents)]\n",
    "    \n",
    "    # пересечение <=> частота взята там И там\n",
    "    for agent in range(agents):\n",
    "        for region in range(regions):\n",
    "            for region_ in range(regions):\n",
    "                for freq in range(blocks):\n",
    "                    solver.Add(y[agent][region][region_][freq] <= 0.5 * (\n",
    "                        sum([x[agent][region][i] for i in range(len(x[agent][region])) \n",
    "                            if i <= freq and freq <= i + A[agent].licenses[region] - 1]) +\n",
    "                        sum([x[agent][region_][i] for i in range(len(x[agent][region_])) \n",
    "                            if i <= freq and freq <= i + A[agent].licenses[region_] - 1])))\n",
    "\n",
    "\n",
    "    \n",
    "    return 0\n",
    "\n",
    "AssignmentRound(regions, blocks, A)"
   ]
  }
 ],
 "metadata": {
  "kernelspec": {
   "display_name": "Python 3",
   "language": "python",
   "name": "python3"
  },
  "language_info": {
   "codemirror_mode": {
    "name": "ipython",
    "version": 3
   },
   "file_extension": ".py",
   "mimetype": "text/x-python",
   "name": "python",
   "nbconvert_exporter": "python",
   "pygments_lexer": "ipython3",
   "version": "3.10.12"
  }
 },
 "nbformat": 4,
 "nbformat_minor": 2
}
